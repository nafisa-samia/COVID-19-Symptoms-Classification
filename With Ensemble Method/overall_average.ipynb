{
 "cells": [
  {
   "cell_type": "code",
   "execution_count": 1,
   "metadata": {},
   "outputs": [],
   "source": [
    "import numpy as np # linear algebra\n",
    "import pandas as pd # data processing, CSV file I/O (e.g. pd.read_csv)\n",
    "import csv"
   ]
  },
  {
   "cell_type": "code",
   "execution_count": 2,
   "metadata": {},
   "outputs": [
    {
     "data": {
      "text/plain": [
       "[[0.4501510574018127],\n",
       " [0.5773809523809523],\n",
       " [0.38368580060422963],\n",
       " [0.6517857142857143],\n",
       " [0.5098123637554814],\n",
       " [0.5000809170605433],\n",
       " [51.424287856071956],\n",
       " [51.874062968515744]]"
      ]
     },
     "execution_count": 2,
     "metadata": {},
     "output_type": "execute_result"
    }
   ],
   "source": [
    "data1 = []\n",
    "with open(\"fold_out_1.csv\") as csvfile:\n",
    "    reader = csv.reader(csvfile, quoting=csv.QUOTE_NONNUMERIC) # change contents to floats\n",
    "    for row in reader: # each row is a list\n",
    "        data1.append(row)\n",
    "        \n",
    "data1"
   ]
  },
  {
   "cell_type": "code",
   "execution_count": 3,
   "metadata": {},
   "outputs": [
    {
     "data": {
      "text/plain": [
       "[[0.5619335347432024],\n",
       " [0.4208955223880597],\n",
       " [0.6948640483383686],\n",
       " [0.26865671641791045],\n",
       " [0.48632839589428567],\n",
       " [0.4320646868044672],\n",
       " [49.0990990990991],\n",
       " [48.048048048048045]]"
      ]
     },
     "execution_count": 3,
     "metadata": {},
     "output_type": "execute_result"
    }
   ],
   "source": [
    "data2 = []\n",
    "with open(\"fold_out_2.csv\") as csvfile:\n",
    "    reader = csv.reader(csvfile, quoting=csv.QUOTE_NONNUMERIC) # change contents to floats\n",
    "    for row in reader: # each row is a list\n",
    "        data2.append(row)\n",
    "        \n",
    "data2"
   ]
  },
  {
   "cell_type": "code",
   "execution_count": 4,
   "metadata": {},
   "outputs": [
    {
     "data": {
      "text/plain": [
       "[[0.5545454545454546],\n",
       " [0.4732142857142857],\n",
       " [0.5545454545454546],\n",
       " [0.4226190476190476],\n",
       " [0.5122683195053459],\n",
       " [0.48410894627291473],\n",
       " [51.35135135135135],\n",
       " [48.7987987987988]]"
      ]
     },
     "execution_count": 4,
     "metadata": {},
     "output_type": "execute_result"
    }
   ],
   "source": [
    "data3 = []\n",
    "with open(\"fold_out_3.csv\") as csvfile:\n",
    "    reader = csv.reader(csvfile, quoting=csv.QUOTE_NONNUMERIC) # change contents to floats\n",
    "    for row in reader: # each row is a list\n",
    "        data3.append(row)\n",
    "        \n",
    "data3"
   ]
  },
  {
   "cell_type": "code",
   "execution_count": 5,
   "metadata": {},
   "outputs": [],
   "source": [
    "data_Average = (np.array(data1) + np.array(data2) + np.array(data3)) / 3.0"
   ]
  },
  {
   "cell_type": "code",
   "execution_count": 6,
   "metadata": {},
   "outputs": [
    {
     "data": {
      "text/plain": [
       "array([[ 0.52221002],\n",
       "       [ 0.49049692],\n",
       "       [ 0.5443651 ],\n",
       "       [ 0.44768716],\n",
       "       [ 0.50280303],\n",
       "       [ 0.47208485],\n",
       "       [50.62491277],\n",
       "       [49.57363661]])"
      ]
     },
     "execution_count": 6,
     "metadata": {},
     "output_type": "execute_result"
    }
   ],
   "source": [
    "data_Average"
   ]
  },
  {
   "cell_type": "code",
   "execution_count": 7,
   "metadata": {},
   "outputs": [],
   "source": [
    "# Accuracy for class 0,1,2.... Using Average\n",
    "\n",
    "# Accuracy for class 0,1,2.... Using Majority Voting\n",
    "\n",
    "# G-Mean value for average\n",
    "# G-Mean value for majority voting\n",
    "\n",
    "# Ensemble Accuracy Using Average\n",
    "# Ensemble Accuracy Using Majority Voting"
   ]
  },
  {
   "cell_type": "code",
   "execution_count": null,
   "metadata": {},
   "outputs": [],
   "source": []
  }
 ],
 "metadata": {
  "kernelspec": {
   "display_name": "Python 3",
   "language": "python",
   "name": "python3"
  },
  "language_info": {
   "codemirror_mode": {
    "name": "ipython",
    "version": 3
   },
   "file_extension": ".py",
   "mimetype": "text/x-python",
   "name": "python",
   "nbconvert_exporter": "python",
   "pygments_lexer": "ipython3",
   "version": "3.8.5"
  }
 },
 "nbformat": 4,
 "nbformat_minor": 2
}
